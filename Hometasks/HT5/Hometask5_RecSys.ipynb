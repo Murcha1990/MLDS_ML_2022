{
  "cells": [
    {
      "cell_type": "markdown",
      "metadata": {
        "id": "ef6180WvQbD-"
      },
      "source": [
        "# Введение\n",
        "\n",
        "В этом задании Вы продолжите работать с данными из семинара [Articles Sharing and Reading from CI&T Deskdrop](https://www.kaggle.com/gspmoreira/articles-sharing-reading-from-cit-deskdrop)."
      ]
    },
    {
      "cell_type": "markdown",
      "metadata": {
        "id": "nSV_mxD9TciM"
      },
      "source": [
        "# Загрузка и предобработка данных"
      ]
    },
    {
      "cell_type": "code",
      "execution_count": null,
      "metadata": {
        "id": "M5mH3ZolSlcm"
      },
      "outputs": [],
      "source": [
        "import math\n",
        "\n",
        "import numpy as np\n",
        "import pandas as pd"
      ]
    },
    {
      "cell_type": "markdown",
      "metadata": {
        "id": "PRQVuRvER0hd"
      },
      "source": [
        "Загрузим данные и проведем предобраотку данных как на семинаре."
      ]
    },
    {
      "cell_type": "code",
      "execution_count": null,
      "metadata": {
        "id": "8E837g9kQTbb"
      },
      "outputs": [],
      "source": [
        "!kaggle datasets download -d gspmoreira/articles-sharing-reading-from-cit-deskdrop\n",
        "!unzip articles-sharing-reading-from-cit-deskdrop.zip -d articles"
      ]
    },
    {
      "cell_type": "code",
      "execution_count": null,
      "metadata": {
        "id": "hdM1xSchR9jt"
      },
      "outputs": [],
      "source": [
        "articles_df = pd.read_csv(\"articles/shared_articles.csv\")\n",
        "articles_df = articles_df[articles_df[\"eventType\"] == \"CONTENT SHARED\"]\n",
        "articles_df.head(2)"
      ]
    },
    {
      "cell_type": "code",
      "execution_count": null,
      "metadata": {
        "id": "KK9wMAkvSjbk"
      },
      "outputs": [],
      "source": [
        "interactions_df = pd.read_csv(\"articles/users_interactions.csv\")\n",
        "interactions_df.head(2)"
      ]
    },
    {
      "cell_type": "code",
      "execution_count": null,
      "metadata": {
        "id": "5nQScdSTTzNG"
      },
      "outputs": [],
      "source": [
        "interactions_df.personId = interactions_df.personId.astype(str)\n",
        "interactions_df.contentId = interactions_df.contentId.astype(str)\n",
        "articles_df.contentId = articles_df.contentId.astype(str)"
      ]
    },
    {
      "cell_type": "code",
      "execution_count": null,
      "metadata": {
        "id": "eu6R9rDQT2P4"
      },
      "outputs": [],
      "source": [
        "# зададим словарь определяющий силу взаимодействия\n",
        "event_type_strength = {\n",
        "    \"VIEW\": 1.0,\n",
        "    \"LIKE\": 2.0,\n",
        "    \"BOOKMARK\": 2.5,\n",
        "    \"FOLLOW\": 3.0,\n",
        "    \"COMMENT CREATED\": 4.0,\n",
        "}\n",
        "\n",
        "interactions_df[\"eventStrength\"] = interactions_df.eventType.apply(\n",
        "    lambda x: event_type_strength[x]\n",
        ")"
      ]
    },
    {
      "cell_type": "markdown",
      "metadata": {
        "id": "ATO5PRRwUkQ0"
      },
      "source": [
        "Оставляем только тех пользователей, которые произамодействовали более чем с пятью статьями."
      ]
    },
    {
      "cell_type": "code",
      "execution_count": null,
      "metadata": {
        "id": "d-0HoboYUBm5"
      },
      "outputs": [],
      "source": [
        "users_interactions_count_df = (\n",
        "    interactions_df.groupby([\"personId\", \"contentId\"])\n",
        "    .first()\n",
        "    .reset_index()\n",
        "    .groupby(\"personId\")\n",
        "    .size()\n",
        ")\n",
        "print(\"# users:\", len(users_interactions_count_df))\n",
        "\n",
        "users_with_enough_interactions_df = users_interactions_count_df[\n",
        "    users_interactions_count_df >= 5\n",
        "].reset_index()[[\"personId\"]]\n",
        "print(\"# users with at least 5 interactions:\", len(users_with_enough_interactions_df))"
      ]
    },
    {
      "cell_type": "markdown",
      "metadata": {
        "id": "gQagI3DHUuX5"
      },
      "source": [
        "Оставляем только те взаимодействия, которые относятся к отфильтрованным пользователям."
      ]
    },
    {
      "cell_type": "code",
      "execution_count": null,
      "metadata": {
        "id": "34rrdGdpUFgk"
      },
      "outputs": [],
      "source": [
        "interactions_from_selected_users_df = interactions_df.loc[\n",
        "    np.in1d(interactions_df.personId, users_with_enough_interactions_df)\n",
        "]"
      ]
    },
    {
      "cell_type": "code",
      "execution_count": null,
      "metadata": {
        "id": "Hd3VS_BgU9HN"
      },
      "outputs": [],
      "source": [
        "print(f\"# interactions before: {interactions_df.shape}\")\n",
        "print(f\"# interactions after: {interactions_from_selected_users_df.shape}\")"
      ]
    },
    {
      "cell_type": "markdown",
      "metadata": {
        "id": "FYpRiFkQVR6B"
      },
      "source": [
        "Объединяем все взаимодействия пользователя по каждой статье и сглаживаем полученный результат, взяв от него логарифм."
      ]
    },
    {
      "cell_type": "code",
      "execution_count": null,
      "metadata": {
        "id": "mtPtAehKVEUu"
      },
      "outputs": [],
      "source": [
        "def smooth_user_preference(x):\n",
        "    return math.log(1 + x, 2)\n",
        "\n",
        "\n",
        "interactions_full_df = (\n",
        "    interactions_from_selected_users_df.groupby([\"personId\", \"contentId\"])\n",
        "    .eventStrength.sum()\n",
        "    .apply(smooth_user_preference)\n",
        "    .reset_index()\n",
        "    .set_index([\"personId\", \"contentId\"])\n",
        ")\n",
        "interactions_full_df[\"last_timestamp\"] = interactions_from_selected_users_df.groupby(\n",
        "    [\"personId\", \"contentId\"]\n",
        ")[\"timestamp\"].last()\n",
        "\n",
        "interactions_full_df = interactions_full_df.reset_index()\n",
        "interactions_full_df.head(5)"
      ]
    },
    {
      "cell_type": "markdown",
      "metadata": {
        "id": "ODJYMtnNWM5w"
      },
      "source": [
        "Разобьём выборку на обучение и контроль по времени."
      ]
    },
    {
      "cell_type": "code",
      "execution_count": null,
      "metadata": {
        "id": "3F2CfAwoVrfo"
      },
      "outputs": [],
      "source": [
        "from sklearn.model_selection import train_test_split\n",
        "\n",
        "split_ts = 1475519530\n",
        "interactions_train_df = interactions_full_df.loc[\n",
        "    interactions_full_df.last_timestamp < split_ts\n",
        "].copy()\n",
        "interactions_test_df = interactions_full_df.loc[\n",
        "    interactions_full_df.last_timestamp >= split_ts\n",
        "].copy()\n",
        "\n",
        "print(f\"# interactions on Train set: {len(interactions_train_df)}\")\n",
        "print(f\"# interactions on Test set: {len(interactions_test_df)}\")\n",
        "\n",
        "interactions_train_df"
      ]
    },
    {
      "cell_type": "markdown",
      "metadata": {
        "id": "h5G3FTYOXLVg"
      },
      "source": [
        "Для удобства подсчёта качества запишем данные в формате, где строка соответствует пользователю, а столбцы будут истинными метками и предсказаниями в виде списков."
      ]
    },
    {
      "cell_type": "code",
      "execution_count": null,
      "metadata": {
        "id": "RT-_toqfXOa2"
      },
      "outputs": [],
      "source": [
        "interactions = (\n",
        "    interactions_train_df.groupby(\"personId\")[\"contentId\"]\n",
        "    .agg(lambda x: list(x))\n",
        "    .reset_index()\n",
        "    .rename(columns={\"contentId\": \"true_train\"})\n",
        "    .set_index(\"personId\")\n",
        ")\n",
        "\n",
        "interactions[\"true_test\"] = interactions_test_df.groupby(\"personId\")[\"contentId\"].agg(\n",
        "    lambda x: list(x)\n",
        ")\n",
        "\n",
        "# заполнение пропусков пустыми списками\n",
        "interactions.loc[pd.isnull(interactions.true_test), \"true_test\"] = [\n",
        "    \"\"\n",
        "    for x in range(\n",
        "        len(interactions.loc[pd.isnull(interactions.true_test), \"true_test\"])\n",
        "    )\n",
        "]\n",
        "\n",
        "interactions.head(1)"
      ]
    },
    {
      "cell_type": "markdown",
      "metadata": {
        "id": "-UWDyWKsamSa"
      },
      "source": [
        "# Библиотека LightFM"
      ]
    },
    {
      "cell_type": "markdown",
      "metadata": {
        "id": "L-iXjvdZa25Z"
      },
      "source": [
        "Для рекомендации Вы будете пользоваться библиотекой [LightFM](https://making.lyst.com/lightfm/docs/home.html), в которой реализованы популярные алгоритмы. Для оценивания качества рекомендации, как и на семинаре, будем пользоваться метрикой *precision@10*."
      ]
    },
    {
      "cell_type": "code",
      "execution_count": null,
      "metadata": {
        "id": "GE_chrYN2lNw"
      },
      "outputs": [],
      "source": [
        "# !pip install lightfm"
      ]
    },
    {
      "cell_type": "code",
      "execution_count": null,
      "metadata": {
        "id": "Qtyn38PZXPLf"
      },
      "outputs": [],
      "source": [
        "from lightfm import LightFM\n",
        "from lightfm.evaluation import precision_at_k"
      ]
    },
    {
      "cell_type": "markdown",
      "metadata": {
        "id": "0CjyGqulcZTf"
      },
      "source": [
        "## Задание 1 (1.5 балла)"
      ]
    },
    {
      "cell_type": "markdown",
      "metadata": {
        "id": "4Sof6V5Dd4h9"
      },
      "source": [
        "Модели в LightFM работают с разреженными матрицами. Создайте разреженные матрицы `data_train` и `data_test` (размером количество пользователей на количество статей), такие что на пересечении строки пользователя и столбца статьи стоит сила их взаимодействия, если взаимодействие было, и стоит ноль, если взаимодействия не было."
      ]
    },
    {
      "cell_type": "code",
      "execution_count": null,
      "metadata": {
        "id": "1cLZ5ga4eIdg"
      },
      "outputs": [],
      "source": [
        "# Ваш код здесь\n",
        "# data_train =\n",
        "# data_test ="
      ]
    },
    {
      "cell_type": "markdown",
      "metadata": {
        "id": "AiNGVzTveRXE"
      },
      "source": [
        "## Задание 2 (0.5 балла)"
      ]
    },
    {
      "cell_type": "markdown",
      "metadata": {
        "id": "ZPfVK3STeryM"
      },
      "source": [
        "Обучите модель LightFM с `loss=\"warp\"` и посчитайте *precision@10* на тесте."
      ]
    },
    {
      "cell_type": "code",
      "execution_count": null,
      "metadata": {
        "id": "YFQxeHw8eVLz"
      },
      "outputs": [],
      "source": [
        "# Ваш код здесь"
      ]
    },
    {
      "cell_type": "markdown",
      "metadata": {
        "id": "qZDsG1iAfdrl"
      },
      "source": [
        "## Задание 3 (2 балла)"
      ]
    },
    {
      "cell_type": "markdown",
      "metadata": {
        "id": "F93chvtbgA9N"
      },
      "source": [
        "При вызове метода `fit` LightFM позволяет передавать в `item_features` признаковое описание объектов. Воспользуемся этим. Будем получать признаковое описание из текста статьи в виде [TF-IDF](https://ru.wikipedia.org/wiki/TF-IDF) (можно воспользоваться `TfidfVectorizer` из scikit-learn). Создайте матрицу `feat` размером количесвто статей на размер признакового описание и обучите LightFM с `loss=\"warp\"` и посчитайте precision@10 на тесте."
      ]
    },
    {
      "cell_type": "code",
      "execution_count": null,
      "metadata": {
        "id": "5SvUi_Fofgf5"
      },
      "outputs": [],
      "source": [
        "# Ваш код здесь\n",
        "# feat ="
      ]
    },
    {
      "cell_type": "markdown",
      "metadata": {
        "id": "8Lwuex6PpsFw"
      },
      "source": [
        "## Задание 4 (1.5 балла)"
      ]
    },
    {
      "cell_type": "markdown",
      "metadata": {
        "id": "5aZcHjSzp2cZ"
      },
      "source": [
        "В задании 3 мы использовали сырой текст статей. В этом задании необходимо сначала сделать предобработку текста (привести к нижнему регистру, убрать стоп слова, привести слова к номральной форме и т.д.), после чего обучите модель и оценить качество на тестовых данных."
      ]
    },
    {
      "cell_type": "code",
      "execution_count": null,
      "metadata": {
        "id": "HDSaOLiJpdGj"
      },
      "outputs": [],
      "source": [
        "# Ваш код здесь"
      ]
    },
    {
      "cell_type": "markdown",
      "metadata": {
        "id": "VgayAPRpqn7L"
      },
      "source": [
        "Улучшилось ли качество предсказания?"
      ]
    },
    {
      "cell_type": "markdown",
      "metadata": {
        "id": "XKRzLLodq3gq"
      },
      "source": [
        "## Задание 5 (1.5 балла)"
      ]
    },
    {
      "cell_type": "markdown",
      "metadata": {
        "id": "brjHl49Aq8su"
      },
      "source": [
        "Подберите гиперпараметры модели LightFM (`n_components` и др.) для улучшения качества модели."
      ]
    },
    {
      "cell_type": "code",
      "execution_count": null,
      "metadata": {
        "id": "PlwaeCiZqncD"
      },
      "outputs": [],
      "source": [
        "# Ваш код здесь"
      ]
    },
    {
      "cell_type": "markdown",
      "metadata": {
        "id": "xJA7v07NrYSF"
      },
      "source": [
        "## Задание 6 (1 балл)"
      ]
    },
    {
      "cell_type": "markdown",
      "metadata": {
        "id": "veLFUoVRrisk"
      },
      "source": [
        "Реализуйте функции для вычисления следующих метрик:\n",
        "* precision@k\n",
        "* recall@k\n",
        "* NDCG@k\n",
        "\n"
      ]
    },
    {
      "cell_type": "code",
      "execution_count": null,
      "metadata": {
        "id": "CQmn1cb-rXU3"
      },
      "outputs": [],
      "source": [
        "# Ваш код здесь"
      ]
    },
    {
      "cell_type": "markdown",
      "source": [
        "## Задание 7 (1 балл)"
      ],
      "metadata": {
        "id": "YE5L-ise3Bq_"
      }
    },
    {
      "cell_type": "markdown",
      "source": [
        "Вычислите значения реализованных метрик для $k=10$ для лучшей полученной модели в предыдущих шагах.\n",
        "\n",
        "Найдите уже реализованные варианты этих метрик в библиотеках lightfm и sklearn. Сравните полученные у вас значения метрик с результатами встроенных в библиотеки метрик."
      ],
      "metadata": {
        "id": "7bqmjJMH3DB7"
      }
    },
    {
      "cell_type": "code",
      "source": [
        "# Ваш код здесь"
      ],
      "metadata": {
        "id": "Vs3x2O5Z3Cgo"
      },
      "execution_count": null,
      "outputs": []
    },
    {
      "cell_type": "markdown",
      "source": [
        "## Задание 8 (1 балл)\n",
        "\n",
        "Реализуйте алгоритм ALS и примените его для решения задачи ноутбука."
      ],
      "metadata": {
        "id": "t78oSTQz3Y6u"
      }
    },
    {
      "cell_type": "markdown",
      "source": [
        "**ALS**\n",
        "\n",
        "Итак, поставлена задача построения модели со скрытыми переменными (latent factor model) для коллаборативной фильтрации:\n",
        "\n",
        "$$ \\sum_{u,i} (r_{ui} - \\langle p_u, q_i \\rangle)^2 \\to \\min_{P,Q}$$\n",
        "\n",
        "Суммирование ведется по всем парам $(u, i),$ для которых известен рейтинг $r_{ui}$ (и только по ним), а $p_u, q_i$ – латентные представления пользователя~$u$ и товара $i$, соответственно, матрицы $P, Q$ получаются путем записывания по столбцам векторов $p_u, q_i$ соответственно.\n",
        "\n",
        "Подход ALS (Alternating Least Squares) решает задачу, попеременно фиксируя матрицы $P$ и $Q$, — оказывается, что, зафиксировав одну из матриц, можно выписать аналитическое решение задачи для другой.\n",
        "\n",
        "$$\\nabla_{p_u} \\bigg[ \\sum_{u,i} (r_{ui} - \\langle p_u, q_i \\rangle)^2 \\bigg] = \\sum_{i} 2(r_{ui} - \\langle p_u, q_i \\rangle)q_i = 0$$\n",
        "\n",
        "Воспользовавшись тем, что $a^Tbc = cb^Ta$, получим\n",
        "$$\\sum_{i} r_{ui}q_i - \\sum_i q_i q_i^T p_u = 0.$$\n",
        "\n",
        "Тогда окончательно каждый столбец матрицы $P$ можно найти по формуле\n",
        "$$p_u = \\bigg( \\sum_i q_i q_i^T\\bigg)^{-1}\\sum_ir_{ui}q_i \\;\\; \\forall u,$$\n",
        "\n",
        "аналогично для столбцов матрицы $Q$\n",
        "$$q_i = \\bigg( \\sum_u p_u p_u^T\\bigg)^{-1}\\sum_ur_{ui}p_u \\;\\; \\forall i.$$\n",
        "\n",
        "Таким образом мы можем решать оптимизационную задачу, поочередно фиксируя одну из матриц $P$ или $Q$ и проводя оптимизацию по второй.\n",
        "\n",
        "**Оригинальная статья c постановкой задачи для ALS на explicit feedback:**\n",
        "\n",
        "* Bell, R.M. and Koren, Y., 2007, October. Scalable collaborative filtering with jointly derived neighborhood interpolation weights. In Seventh IEEE international conference on data mining (ICDM 2007) (pp. 43-52). IEEE.\n",
        "\n",
        "**Оригинальная статья с ALS для implicit данных, которая стала более известной:**\n",
        "\n",
        "* Hu, Y., Koren, Y. and Volinsky, C., 2008, December. Collaborative filtering for implicit feedback datasets. In 2008 Eighth IEEE international conference on data mining (pp. 263-272). Ieee.\n"
      ],
      "metadata": {
        "id": "voZ9GsE54EZT"
      }
    },
    {
      "cell_type": "code",
      "source": [
        "# Ваш код здесь"
      ],
      "metadata": {
        "id": "7cDRmFLs4DnT"
      },
      "execution_count": null,
      "outputs": []
    }
  ],
  "metadata": {
    "colab": {
      "provenance": []
    },
    "kernelspec": {
      "display_name": "Python 3 (ipykernel)",
      "language": "python",
      "name": "python3"
    },
    "language_info": {
      "codemirror_mode": {
        "name": "ipython",
        "version": 3
      },
      "file_extension": ".py",
      "mimetype": "text/x-python",
      "name": "python",
      "nbconvert_exporter": "python",
      "pygments_lexer": "ipython3",
      "version": "3.9.10"
    }
  },
  "nbformat": 4,
  "nbformat_minor": 0
}